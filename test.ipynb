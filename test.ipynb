{
 "cells": [
  {
   "cell_type": "code",
   "execution_count": 1,
   "metadata": {},
   "outputs": [],
   "source": [
    "from langchain.document_loaders import UnstructuredURLLoader"
   ]
  },
  {
   "cell_type": "code",
   "execution_count": 2,
   "metadata": {},
   "outputs": [
    {
     "name": "stderr",
     "output_type": "stream",
     "text": [
      "[nltk_data] Downloading package punkt to\n",
      "[nltk_data]     C:\\Users\\user\\AppData\\Roaming\\nltk_data...\n",
      "[nltk_data]   Package punkt is already up-to-date!\n",
      "[nltk_data] Downloading package averaged_perceptron_tagger to\n",
      "[nltk_data]     C:\\Users\\user\\AppData\\Roaming\\nltk_data...\n",
      "[nltk_data]   Package averaged_perceptron_tagger is already up-to-\n",
      "[nltk_data]       date!\n"
     ]
    },
    {
     "data": {
      "text/plain": [
       "True"
      ]
     },
     "execution_count": 2,
     "metadata": {},
     "output_type": "execute_result"
    }
   ],
   "source": [
    "import nltk\n",
    "nltk.download('punkt')\n",
    "nltk.download('averaged_perceptron_tagger')"
   ]
  },
  {
   "cell_type": "code",
   "execution_count": 1,
   "metadata": {},
   "outputs": [
    {
     "name": "stdout",
     "output_type": "stream",
     "text": [
      "Python 3.9.0\n"
     ]
    }
   ],
   "source": [
    "!python --version"
   ]
  },
  {
   "cell_type": "code",
   "execution_count": 17,
   "metadata": {},
   "outputs": [
    {
     "name": "stdout",
     "output_type": "stream",
     "text": [
      "Requirement already satisfied: python-magic in c:\\users\\user\\desktop\\projects\\my-portfolio-chatbot\\venv\\lib\\site-packages (0.4.27)\n",
      "Note: you may need to restart the kernel to use updated packages.\n"
     ]
    }
   ],
   "source": [
    "%pip install python-magic"
   ]
  },
  {
   "cell_type": "code",
   "execution_count": 6,
   "metadata": {},
   "outputs": [],
   "source": [
    "URLs=[\n",
    "    'https://zagnouneotmane.github.io/'\n",
    "\n",
    "]"
   ]
  },
  {
   "cell_type": "code",
   "execution_count": 7,
   "metadata": {},
   "outputs": [
    {
     "name": "stderr",
     "output_type": "stream",
     "text": [
      "Error fetching or processing C:/Users/user/Desktop/PROJECTS/ismailouahbi.github.io/index.html, exeption: No connection adapters were found for 'C:/Users/user/Desktop/PROJECTS/ismailouahbi.github.io/index.html'\n"
     ]
    }
   ],
   "source": [
    "loaders=UnstructuredURLLoader(urls=URLs)\n",
    "data=loaders.load()"
   ]
  },
  {
   "cell_type": "code",
   "execution_count": 8,
   "metadata": {},
   "outputs": [
    {
     "data": {
      "text/plain": [
       "[Document(page_content='Alejandro AO/\\n\\nAbout/\\n\\nAbout\\n\\nCareer>\\n\\nCareer\\n#\\n\\nMy name is Alejandro. I am a software developer based in France. I am currently finishing a master’s degree in AI and Business Analytics. I started exploring computers and programming at a young age and eventually enrolled in a computer science degree.\\n\\nOnce there, I figured I did not quite like the degree and ended up studying French literature and mathematics at the University of Lille, in France. Excellent decision.\\n\\nAfter graduating, I had the impression that I had been in the university world for too long. So I wanted to get a feel of a real-world industry and maybe create a business. That is how I got enrolled in a business and finance programme at Toulouse Business School. During that time, I also started developing software again and got a job at a media agency as a software developer, where I learned a lot.\\n\\nI am currently working as a software developer in France and I publish youtube videos and articles about software development and machine learning.\\n\\nKaggle Notebooks>\\n\\nKaggle Notebooks\\n#\\n\\nHere are a few Kaggle notebooks explaining some machine learning models.\\n\\nIntroduction to GMM: Fraud Detection\\n\\nPredicting Cancer with Logistic Regression', metadata={'source': 'https://alejandro-ao.com/about/'})]"
      ]
     },
     "execution_count": 8,
     "metadata": {},
     "output_type": "execute_result"
    }
   ],
   "source": [
    "data"
   ]
  }
 ],
 "metadata": {
  "kernelspec": {
   "display_name": "Python 3",
   "language": "python",
   "name": "python3"
  },
  "language_info": {
   "codemirror_mode": {
    "name": "ipython",
    "version": 3
   },
   "file_extension": ".py",
   "mimetype": "text/x-python",
   "name": "python",
   "nbconvert_exporter": "python",
   "pygments_lexer": "ipython3",
   "version": "3.9.0"
  }
 },
 "nbformat": 4,
 "nbformat_minor": 2
}
